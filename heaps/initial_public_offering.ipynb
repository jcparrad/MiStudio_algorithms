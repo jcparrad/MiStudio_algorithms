{
 "cells": [
  {
   "cell_type": "markdown",
   "metadata": {},
   "source": [
    "# IPO"
   ]
  },
  {
   "cell_type": "markdown",
   "metadata": {},
   "source": [
    "## Naive Aproach\n",
    "\n"
   ]
  },
  {
   "cell_type": "code",
   "execution_count": 1,
   "metadata": {},
   "outputs": [
    {
     "name": "stdout",
     "output_type": "stream",
     "text": [
      "2 [(2, 4), (2, 6), (3, 8)]\n",
      "8 [(2, 4), (2, 6)]\n",
      "11\n"
     ]
    }
   ],
   "source": [
    "initial_capital = 1\n",
    "k_projects = 2\n",
    "\n",
    "capitals = [1, 2, 2, 3]\n",
    "profit = [2, 4, 6, 8]\n",
    "\n",
    "\n",
    "\n",
    "# sort capitals\n",
    "def get_max_profit_given_c (capitals_profit, initial_capital):\n",
    "    max_profit = -float(\"inf\")\n",
    "    max_profit_index = 0\n",
    "    capitals.sort()\n",
    "    for i, (c, p) in enumerate(capitals_profit):\n",
    "        \n",
    "        #print(i, c, p)\n",
    "        if c <= initial_capital:\n",
    "            max_profit  = max(max_profit, p)\n",
    "            max_profit_index = i\n",
    "    \n",
    "    #print(capitals_profit)\n",
    "    #print(max_profit_index, max_profit)\n",
    "    capitals_profit.pop(max_profit_index)\n",
    "    #print(capitals_profit)\n",
    "    return max_profit, capitals_profit\n",
    "\n",
    "\n",
    "capitals_profit = list(zip(capitals, profit))\n",
    "count_k = 0\n",
    "while len(capitals_profit)>0  and count_k < k_projects:\n",
    "    max_profit, capitals_profit = get_max_profit_given_c (capitals_profit, initial_capital)\n",
    "    print(max_profit, capitals_profit)\n",
    "    initial_capital += max_profit\n",
    "    count_k += 1\n",
    "print(initial_capital)\n",
    "\n"
   ]
  },
  {
   "cell_type": "code",
   "execution_count": null,
   "metadata": {},
   "outputs": [],
   "source": []
  },
  {
   "cell_type": "code",
   "execution_count": null,
   "metadata": {},
   "outputs": [],
   "source": []
  }
 ],
 "metadata": {
  "kernelspec": {
   "display_name": ".venv",
   "language": "python",
   "name": "python3"
  },
  "language_info": {
   "codemirror_mode": {
    "name": "ipython",
    "version": 3
   },
   "file_extension": ".py",
   "mimetype": "text/x-python",
   "name": "python",
   "nbconvert_exporter": "python",
   "pygments_lexer": "ipython3",
   "version": "3.12.6"
  }
 },
 "nbformat": 4,
 "nbformat_minor": 2
}
